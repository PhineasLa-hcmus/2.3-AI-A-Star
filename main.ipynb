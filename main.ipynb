{
 "cells": [
  {
   "cell_type": "code",
   "execution_count": 1,
   "metadata": {},
   "outputs": [
    {
     "data": {
      "text/plain": [
       "((74, 213), (96, 311), 10)"
      ]
     },
     "execution_count": 1,
     "metadata": {},
     "output_type": "execute_result"
    }
   ],
   "source": [
    "import re\r\n",
    "import math\r\n",
    "import numpy as np\r\n",
    "from PIL import Image, ImageOps\r\n",
    "from queue import PriorityQueue\r\n",
    "from typing import Dict, DefaultDict, Optional\r\n",
    "from collections import defaultdict\r\n",
    "\r\n",
    "Point = tuple[int, int]\r\n",
    "\r\n",
    "moveset = ((-1, -1), (0, -1), (1, -1),  # NW, N, NE\r\n",
    "           (-1, 0), (1, 0),             # W, E\r\n",
    "           (-1, 1), (0, 1), (1, 1))     # SW, S, SE\r\n",
    "\r\n",
    "with open(\"input.txt\", \"r\") as f:\r\n",
    "    def parse(f):\r\n",
    "        return Point(int(i) for i in re.findall(r'\\d+', f.readline()))\r\n",
    "    start = parse(f)\r\n",
    "    goal = parse(f)\r\n",
    "    limit = int(f.read())\r\n",
    "\r\n",
    "start, goal, limit\r\n"
   ]
  },
  {
   "cell_type": "code",
   "execution_count": 2,
   "metadata": {},
   "outputs": [
    {
     "data": {
      "text/plain": [
       "array([[ 63,  63,  64, ..., 114, 114, 115],\n",
       "       [ 62,  63,  65, ..., 113, 113, 114],\n",
       "       [ 63,  64,  66, ..., 113, 113, 113],\n",
       "       ...,\n",
       "       [  0,   0,   0, ...,   0,   0,   0],\n",
       "       [  0,   0,   0, ...,   0,   0,   0],\n",
       "       [  0,   0,   0, ...,   0,   0,   0]])"
      ]
     },
     "execution_count": 2,
     "metadata": {},
     "output_type": "execute_result"
    }
   ],
   "source": [
    "img = ImageOps.grayscale(Image.open(\"./img/map.bmp\"))\r\n",
    "map = np.array(img).astype(int)\r\n",
    "map\r\n"
   ]
  },
  {
   "cell_type": "code",
   "execution_count": null,
   "metadata": {},
   "outputs": [],
   "source": []
  },
  {
   "cell_type": "code",
   "execution_count": 8,
   "metadata": {},
   "outputs": [
    {
     "data": {
      "text/plain": [
       "101.93903623591775"
      ]
     },
     "execution_count": 8,
     "metadata": {},
     "output_type": "execute_result"
    }
   ],
   "source": [
    "class Cost:\r\n",
    "    def __init__(self, map: np.ndarray = None) -> None:\r\n",
    "        self.map = map\r\n",
    "\r\n",
    "    def get(self, from_pos: Point, to_pos: Point) -> float:\r\n",
    "        x1, y1 = from_pos\r\n",
    "        x2, y2 = to_pos\r\n",
    "        delta = self.map[x2, y2] - self.map[x1, y1]\r\n",
    "        return math.sqrt((x2-x1)**2 + (y2-y1)**2) + (0.5 * np.sign(delta) + 1) * abs(delta)\r\n",
    "\r\n",
    "\r\n",
    "Cost(map).get(start, goal)\r\n"
   ]
  },
  {
   "cell_type": "code",
   "execution_count": 9,
   "metadata": {},
   "outputs": [
    {
     "ename": "TypeError",
     "evalue": "'numpy.ndarray' object is not callable",
     "output_type": "error",
     "traceback": [
      "\u001b[1;31m---------------------------------------------------------------------------\u001b[0m",
      "\u001b[1;31mTypeError\u001b[0m                                 Traceback (most recent call last)",
      "\u001b[1;32m~\\AppData\\Local\\Temp/ipykernel_12240/1372385397.py\u001b[0m in \u001b[0;36m<module>\u001b[1;34m\u001b[0m\n\u001b[0;32m     32\u001b[0m \u001b[1;33m\u001b[0m\u001b[0m\n\u001b[0;32m     33\u001b[0m \u001b[1;33m\u001b[0m\u001b[0m\n\u001b[1;32m---> 34\u001b[1;33m \u001b[0ma_star\u001b[0m \u001b[1;33m=\u001b[0m \u001b[0mAStar\u001b[0m\u001b[1;33m(\u001b[0m\u001b[0mCost\u001b[0m\u001b[1;33m,\u001b[0m \u001b[0mCost\u001b[0m\u001b[1;33m,\u001b[0m \u001b[0mmap\u001b[0m\u001b[1;33m,\u001b[0m \u001b[0mmoveset\u001b[0m\u001b[1;33m)\u001b[0m\u001b[1;33m\u001b[0m\u001b[1;33m\u001b[0m\u001b[0m\n\u001b[0m",
      "\u001b[1;32m~\\AppData\\Local\\Temp/ipykernel_12240/1372385397.py\u001b[0m in \u001b[0;36m__init__\u001b[1;34m(self, map, heuristic, cost, moveset)\u001b[0m\n\u001b[0;32m      2\u001b[0m     \u001b[1;32mdef\u001b[0m \u001b[0m__init__\u001b[0m\u001b[1;33m(\u001b[0m\u001b[0mself\u001b[0m\u001b[1;33m,\u001b[0m  \u001b[0mmap\u001b[0m\u001b[1;33m:\u001b[0m \u001b[0mnp\u001b[0m\u001b[1;33m.\u001b[0m\u001b[0mndarray\u001b[0m\u001b[1;33m,\u001b[0m \u001b[0mheuristic\u001b[0m\u001b[1;33m,\u001b[0m \u001b[0mcost\u001b[0m\u001b[1;33m,\u001b[0m \u001b[0mmoveset\u001b[0m\u001b[1;33m:\u001b[0m \u001b[0mtuple\u001b[0m\u001b[1;33m[\u001b[0m\u001b[0mPoint\u001b[0m\u001b[1;33m]\u001b[0m\u001b[1;33m)\u001b[0m \u001b[1;33m->\u001b[0m \u001b[1;32mNone\u001b[0m\u001b[1;33m:\u001b[0m\u001b[1;33m\u001b[0m\u001b[1;33m\u001b[0m\u001b[0m\n\u001b[0;32m      3\u001b[0m         \u001b[0mself\u001b[0m\u001b[1;33m.\u001b[0m\u001b[0mh\u001b[0m \u001b[1;33m=\u001b[0m \u001b[0mheuristic\u001b[0m\u001b[1;33m(\u001b[0m\u001b[0mmap\u001b[0m\u001b[1;33m)\u001b[0m\u001b[1;33m\u001b[0m\u001b[1;33m\u001b[0m\u001b[0m\n\u001b[1;32m----> 4\u001b[1;33m         \u001b[0mself\u001b[0m\u001b[1;33m.\u001b[0m\u001b[0mg\u001b[0m \u001b[1;33m=\u001b[0m \u001b[0mcost\u001b[0m\u001b[1;33m(\u001b[0m\u001b[0mmap\u001b[0m\u001b[1;33m)\u001b[0m\u001b[1;33m\u001b[0m\u001b[1;33m\u001b[0m\u001b[0m\n\u001b[0m\u001b[0;32m      5\u001b[0m         \u001b[0mself\u001b[0m\u001b[1;33m.\u001b[0m\u001b[0mmap\u001b[0m \u001b[1;33m=\u001b[0m \u001b[0mmap\u001b[0m\u001b[1;33m\u001b[0m\u001b[1;33m\u001b[0m\u001b[0m\n\u001b[0;32m      6\u001b[0m         \u001b[0mself\u001b[0m\u001b[1;33m.\u001b[0m\u001b[0mmoveset\u001b[0m \u001b[1;33m=\u001b[0m \u001b[0mmoveset\u001b[0m\u001b[1;33m\u001b[0m\u001b[1;33m\u001b[0m\u001b[0m\n",
      "\u001b[1;31mTypeError\u001b[0m: 'numpy.ndarray' object is not callable"
     ]
    }
   ],
   "source": [
    "class AStar:\r\n",
    "    def __init__(self,  map: np.ndarray, heuristic, cost, moveset: tuple[Point]) -> None:\r\n",
    "        self.h = heuristic(map)\r\n",
    "        self.g = cost(map)\r\n",
    "        self.map = map\r\n",
    "        self.moveset = moveset\r\n",
    "\r\n",
    "    def in_bounds(self, pos: Point) -> bool:\r\n",
    "        x, y = pos\r\n",
    "        x_limit, y_limit = self.map.shape\r\n",
    "        return 0 <= x < x_limit and 0 <= y < y_limit\r\n",
    "\r\n",
    "    def neighbors(self, cur: Point):\r\n",
    "        neighbors = []\r\n",
    "        for move in moveset:\r\n",
    "            neighbors.append(tuple(i + j for i, j in zip(cur, move)))\r\n",
    "        return filter(self.in_bounds, neighbors)\r\n",
    "\r\n",
    "    def search(self, start: Point, goal: Point):\r\n",
    "        open_set = PriorityQueue()\r\n",
    "        open_set.put(start)\r\n",
    "        came_from: Dict[Point, Optional[Point]] = {start: None}\r\n",
    "        g_score: DefaultDict[Point, float] = defaultdict(np.ndarray)\r\n",
    "        f_score: DefaultDict[Point, float] = {start: self.h(start)}\r\n",
    "\r\n",
    "        while not open_set.empty():\r\n",
    "            cur = open_set.get()\r\n",
    "            if cur == goal:\r\n",
    "                return \"ADD RECONSTRUCT PATH FUNCTION HERE\"\r\n",
    "            for next in self.neighbors(cur):\r\n",
    "                pass\r\n",
    "\r\n",
    "\r\n",
    "a_star = AStar(Cost, Cost, map, moveset)\r\n"
   ]
  }
 ],
 "metadata": {
  "interpreter": {
   "hash": "6c15f6a172f14a639408d21adc440d737f2d15e0e519ed795812a3f754ed02f5"
  },
  "kernelspec": {
   "display_name": "Python 3.9.5 64-bit",
   "name": "python3"
  },
  "language_info": {
   "codemirror_mode": {
    "name": "ipython",
    "version": 3
   },
   "file_extension": ".py",
   "mimetype": "text/x-python",
   "name": "python",
   "nbconvert_exporter": "python",
   "pygments_lexer": "ipython3",
   "version": "3.9.5"
  },
  "orig_nbformat": 4
 },
 "nbformat": 4,
 "nbformat_minor": 2
}